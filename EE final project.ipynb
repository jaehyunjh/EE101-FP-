{
 "cells": [
  {
   "cell_type": "code",
   "execution_count": 37,
   "id": "7c89c5bf-5de3-43a3-8c7e-6753bec44cdb",
   "metadata": {},
   "outputs": [],
   "source": [
    "import pandas as pd\n",
    "import matplotlib.pyplot as plt\n",
    "import numpy as np"
   ]
  },
  {
   "cell_type": "code",
   "execution_count": 38,
   "id": "91fc289a-9c99-453d-ac27-6723c73f280b",
   "metadata": {},
   "outputs": [
    {
     "name": "stdout",
     "output_type": "stream",
     "text": [
      "['C:\\\\Users\\\\star5\\\\EE101', '', 'C:\\\\python\\\\DLLs', 'C:\\\\python\\\\Lib', 'C:\\\\python', 'C:\\\\Users\\\\star5\\\\AppData\\\\Roaming\\\\Python\\\\Python311\\\\site-packages', 'C:\\\\python\\\\Lib\\\\site-packages', 'C:\\\\python\\\\Lib\\\\site-packages\\\\vboxapi-1.0-py3.11.egg', 'C:\\\\python\\\\Lib\\\\site-packages\\\\win32', 'C:\\\\python\\\\Lib\\\\site-packages\\\\win32\\\\lib', 'C:\\\\python\\\\Lib\\\\site-packages\\\\Pythonwin']\n"
     ]
    },
    {
     "ename": "ValueError",
     "evalue": "list.remove(x): x not in list",
     "output_type": "error",
     "traceback": [
      "\u001b[1;31m---------------------------------------------------------------------------\u001b[0m",
      "\u001b[1;31mValueError\u001b[0m                                Traceback (most recent call last)",
      "Cell \u001b[1;32mIn[38], line 3\u001b[0m\n\u001b[0;32m      1\u001b[0m \u001b[38;5;28;01mimport\u001b[39;00m \u001b[38;5;21;01msys\u001b[39;00m\n\u001b[0;32m      2\u001b[0m \u001b[38;5;28mprint\u001b[39m(sys\u001b[38;5;241m.\u001b[39mpath)\n\u001b[1;32m----> 3\u001b[0m sys\u001b[38;5;241m.\u001b[39mpath\u001b[38;5;241m.\u001b[39mremove(\u001b[38;5;124m'\u001b[39m\u001b[38;5;124mc:\u001b[39m\u001b[38;5;130;01m\\\\\u001b[39;00m\u001b[38;5;124musers\u001b[39m\u001b[38;5;130;01m\\\\\u001b[39;00m\u001b[38;5;124mstar5\u001b[39m\u001b[38;5;130;01m\\\\\u001b[39;00m\u001b[38;5;124mappdata\u001b[39m\u001b[38;5;130;01m\\\\\u001b[39;00m\u001b[38;5;124mlocal\u001b[39m\u001b[38;5;130;01m\\\\\u001b[39;00m\u001b[38;5;124mpackages\u001b[39m\u001b[38;5;130;01m\\\\\u001b[39;00m\u001b[38;5;124mpythonsoftwarefoundation.python.3.12_qbz5n2kfra8p0\u001b[39m\u001b[38;5;130;01m\\\\\u001b[39;00m\u001b[38;5;124mlocalcache\u001b[39m\u001b[38;5;130;01m\\\\\u001b[39;00m\u001b[38;5;124mlocal-packages\u001b[39m\u001b[38;5;130;01m\\\\\u001b[39;00m\u001b[38;5;124mpython312\u001b[39m\u001b[38;5;130;01m\\\\\u001b[39;00m\u001b[38;5;124msite-packages\u001b[39m\u001b[38;5;124m'\u001b[39m)\n",
      "\u001b[1;31mValueError\u001b[0m: list.remove(x): x not in list"
     ]
    }
   ],
   "source": [
    "import sys\n",
    "print(sys.path)\n",
    "sys.path.remove('c:\\\\users\\\\star5\\\\appdata\\\\local\\\\packages\\\\pythonsoftwarefoundation.python.3.12_qbz5n2kfra8p0\\\\localcache\\\\local-packages\\\\python312\\\\site-packages')"
   ]
  },
  {
   "cell_type": "code",
   "execution_count": 39,
   "id": "0476e108-0ca4-49b5-922a-44ea1907db06",
   "metadata": {},
   "outputs": [],
   "source": [
    "#각 종류의 data를 읽음 이름은 자료_data로 함\n",
    "covid_data=pd.read_csv(filepath_or_buffer=r'WHO-COVID-19-global-data.csv')\n",
    "capital_data=pd.read_csv(filepath_or_buffer=r'country-capital-lat-long-population.csv')\n",
    "population_data=pd.read_csv(filepath_or_buffer=r'country-population.csv')\n",
    "area_data=pd.read_csv(filepath_or_buffer=r'list_of_countries_by_area.csv')\n",
    "#covid_data에서 Nan을 0으로 바꾼후 음수인 data가 있는 columns 제거\n",
    "covid_data=covid_data.fillna(0)\n",
    "covid_data=covid_data[covid_data.select_dtypes(include=['number']).ge(0).all(axis=1)]\n"
   ]
  },
  {
   "cell_type": "code",
   "execution_count": 40,
   "id": "bf1c1a5a-bb18-4514-aa66-13e32d77f66e",
   "metadata": {},
   "outputs": [
    {
     "name": "stdout",
     "output_type": "stream",
     "text": [
      "  Date_reported Country_code      Country WHO_region  New_cases  \\\n",
      "0    2020-01-05           AF  Afghanistan       EMRO        0.0   \n",
      "1    2020-01-12           AF  Afghanistan       EMRO        0.0   \n",
      "2    2020-01-19           AF  Afghanistan       EMRO        0.0   \n",
      "3    2020-01-26           AF  Afghanistan       EMRO        0.0   \n",
      "4    2020-02-02           AF  Afghanistan       EMRO        0.0   \n",
      "\n",
      "   Cumulative_cases  New_deaths  Cumulative_deaths  \n",
      "0                 0         0.0                  0  \n",
      "1                 0         0.0                  0  \n",
      "2                 0         0.0                  0  \n",
      "3                 0         0.0                  0  \n",
      "4                 0         0.0                  0  \n",
      "   S.No.      Country / Dependency        Total in km (mi)  \\\n",
      "0      1        Russian Federation  17,098,246 (6,601,670)   \n",
      "1      2                    Canada   9,984,670 (3,855,100)   \n",
      "2      3                     China   9,596,961 (3,705,407)   \n",
      "3      4  United States of America   9,833,517 (3,796,742)   \n",
      "4      5                    Brazil   8,515,767 (3,287,956)   \n",
      "\n",
      "          Land in km (mi)   Water in km (mi) % water Alpha-2 code  \\\n",
      "0  16,378,410 (6,323,740)  719,836 (277,930)    4.21           RU   \n",
      "1   9,093,507 (3,511,023)  891,163 (344,080)    8.93           CA   \n",
      "2   9,326,410 (3,600,950)  270,550 (104,460)    2.82           CN   \n",
      "3   9,147,593 (3,531,905)  685,924 (264,837)    6.97           US   \n",
      "4   8,460,415 (3,266,584)    55,352 (21,372)    0.65           BR   \n",
      "\n",
      "  Numeric Code Nationality  \n",
      "0          643     Russian  \n",
      "1          124    Canadian  \n",
      "2          156     Chinese  \n",
      "3          840    American  \n",
      "4           76   Brazilian  \n",
      "                  Country Name Country Code     Indicator Name Indicator Code  \\\n",
      "0                        Aruba          ABW  Population, total    SP.POP.TOTL   \n",
      "1  Africa Eastern and Southern          AFE  Population, total    SP.POP.TOTL   \n",
      "2                  Afghanistan          AFG  Population, total    SP.POP.TOTL   \n",
      "3   Africa Western and Central          AFW  Population, total    SP.POP.TOTL   \n",
      "4                       Angola          AGO  Population, total    SP.POP.TOTL   \n",
      "\n",
      "          1960         1961         1962         1963         1964  \\\n",
      "0      54608.0      55811.0      56682.0      57475.0      58178.0   \n",
      "1  130692579.0  134169237.0  137835590.0  141630546.0  145605995.0   \n",
      "2    8622466.0    8790140.0    8969047.0    9157465.0    9355514.0   \n",
      "3   97256290.0   99314028.0  101445032.0  103667517.0  105959979.0   \n",
      "4    5357195.0    5441333.0    5521400.0    5599827.0    5673199.0   \n",
      "\n",
      "          1965  ...         2014         2015         2016         2017  \\\n",
      "0      58782.0  ...     103594.0     104257.0     104874.0     105439.0   \n",
      "1  149742351.0  ...  583651101.0  600008424.0  616377605.0  632746570.0   \n",
      "2    9565147.0  ...   32716210.0   33753499.0   34636207.0   35643418.0   \n",
      "3  108336203.0  ...  397855507.0  408690375.0  419778384.0  431138704.0   \n",
      "4    5736582.0  ...   27128337.0   28127721.0   29154746.0   30208628.0   \n",
      "\n",
      "          2018         2019         2020         2021         2022  2023  \n",
      "0     105962.0     106442.0     106585.0     106537.0     106445.0   NaN  \n",
      "1  649757148.0  667242986.0  685112979.0  702977106.0  720859132.0   NaN  \n",
      "2   36686784.0   37769499.0   38972230.0   40099462.0   41128771.0   NaN  \n",
      "3  442646825.0  454306063.0  466189102.0  478185907.0  490330870.0   NaN  \n",
      "4   31273533.0   32353588.0   33428486.0   34503774.0   35588987.0   NaN  \n",
      "\n",
      "[5 rows x 68 columns]\n",
      "          Country           Capital City  Latitude  Longitude  Population  \\\n",
      "0     Afghanistan                  Kabul   34.5289    69.1725     4011770   \n",
      "1         Albania        Tiranë (Tirana)   41.3275    19.8189      475577   \n",
      "2         Algeria  El Djazaïr  (Algiers)   36.7525     3.0420     2693542   \n",
      "3  American Samoa              Pago Pago  -14.2781  -170.7025       48526   \n",
      "4         Andorra       Andorra la Vella   42.5078     1.5211       22614   \n",
      "\n",
      "  Capital Type  \n",
      "0      Capital  \n",
      "1      Capital  \n",
      "2      Capital  \n",
      "3      Capital  \n",
      "4      Capital  \n"
     ]
    }
   ],
   "source": [
    "#오류 확인을 위해 각 data head 확인\n",
    "print(covid_data.head(5))\n",
    "print(area_data.head(5))\n",
    "print(population_data.head(5))\n",
    "print(capital_data.head(5))"
   ]
  },
  {
   "cell_type": "code",
   "execution_count": null,
   "id": "72f40aa7-af0b-4e93-aa5e-5ad0a09eadc1",
   "metadata": {},
   "outputs": [],
   "source": []
  },
  {
   "cell_type": "code",
   "execution_count": 41,
   "id": "e7d0f758-efb5-4e07-926c-c27f3aa8537e",
   "metadata": {},
   "outputs": [
    {
     "name": "stdout",
     "output_type": "stream",
     "text": [
      "Monaco\n",
      "Malta\n",
      "Belgium\n",
      "Netherlands (Kingdom of the)\n",
      "San Marino\n",
      "United Kingdom of Great Britain and Northern Ireland\n",
      "Germany\n",
      "Italy\n",
      "Switzerland\n",
      "Luxembourg\n"
     ]
    }
   ],
   "source": [
    "#class Country 정의\n",
    "class Country:\n",
    "    '''attribute로 name, country_code, WHO_region(by WHO-COVID-19-global-data.csv)를 부여하기 위해\n",
    "    우선 country를 함께 입력받아 name으로 할당한 후 country 입력 값과 각각의 표에서 country에 해당하는 부분이 입력받은 country와 같은 dataframe을 구성한다\n",
    "    이후 필요한 부분에 접근한 다음 list로 변환 후 [0]을 통해 data로 변환한다. 필요한 경우 조작을 첨한다.\n",
    "    '''\n",
    "    def __init__(self, country):\n",
    "        self.name=country\n",
    "        countrysdataframe=covid_data[(covid_data['Country']==country)]\n",
    "        self.WHO_region=list(countrysdataframe['WHO_region'])[0]\n",
    "        self.Country_code=list(population_data[(population_data['Country Name']==country)]['Country Code'])[0]\n",
    "        self.capital=list(capital_data[(capital_data['Country']==country)]['Capital City'])[0]\n",
    "        areadataframe=area_data[(area_data['Country / Dependency']==country)]\n",
    "        self.land_in_km=list(areadataframe['Land in km (mi)'])[0].split('(')[0].strip().replace(',', '')\n",
    "        self.water_in_km=list(areadataframe['Water in km (mi)'])[0].split('(')[0].strip().replace(',', '')\n",
    "        self.population=list(population_data[(population_data['Country Name']==country)]['1960'])[0]\n",
    "    def info(self):\n",
    "        '''\n",
    "        각각의 attribute를 이름과 함께 출력한다.\n",
    "        '''\n",
    "        print('name:',self.name)\n",
    "        print('WHO-region:',self.WHO_region)\n",
    "        print('countrycode:',self.Country_code)\n",
    "        print('capital:',self.capital)\n",
    "        print('land area:',self.land_in_km)\n",
    "        print('water area:',self.water_in_km)\n",
    "        print('population:',self.population)\n",
    "\n",
    "    def population_density(self):\n",
    "        #인구 밀도를 기존 값에 float를 이용하여 계산, population_den에 할당, 반환한다.\n",
    "        self.population_den = float(self.population)/(float(self.land_in_km)+float(self.water_in_km))\n",
    "        return float(self.population)/(float(self.land_in_km)+float(self.water_in_km))\n",
    "        \n",
    "    def update_population(self):\n",
    "        '''Country name이 이름과 같은 data로 dataframe 생성\n",
    "        이후 1960년 데이터를 선택한 뒤 차례로 다음 data를 이전 데이터로 나눈 값을 my_list에 추가한다.\n",
    "        만약 이후 자료가 없다면 마지막 자료를 p에 할당한다.\n",
    "        그후 my_list 값을 평균 내어 p에 곱한 값을 self.population, 함수에 반환한다''' \n",
    "        populationdataframe=population_data[(population_data['Country Name']==self.name)]\n",
    "        my_list=[]\n",
    "        k=4\n",
    "        p=0\n",
    "        while True:\n",
    "            k+=1\n",
    "            if pd.isna(populationdataframe.iloc[0,k]):\n",
    "                p= populationdataframe.iloc[0,k-1]\n",
    "                break\n",
    "            else:\n",
    "                t=populationdataframe.iloc[0,k]/populationdataframe.iloc[0,k-1]\n",
    "                my_list.append(t)\n",
    "        self.population=p*sum(my_list)/len(my_list)\n",
    "        return p*sum(my_list)/len(my_list)\n",
    "    @staticmethod\n",
    "    def compare(lis):\n",
    "        '''static method로 생성 list를 입력받는다. 이후 list 내 값을 k로 하여 k.population_den을 p로,\n",
    "        그리고 {k:k.population}으로 하는 dictionary를 생성한다. 없는 경우 넘긴다.\n",
    "        그후 mylist를 item 값으로 정렬한다. 그리고 10개 혹은 list 갯수 중 적은 값만큼 \n",
    "        dictionary에서의 key를 출력한다.(sort 과정에서 list를 element로 하는 list가 됨)\n",
    "        '''\n",
    "        #출력하려 했으나 없는 값들이 존재, 이 경우 넘김\n",
    "        mylist={}\n",
    "        for k in lis:\n",
    "            try:\n",
    "                k.population_density()\n",
    "                p=k.population_den\n",
    "                mylist[k.name]=p\n",
    "            except:\n",
    "                continue\n",
    "        mylist=sorted(mylist.items(),key=lambda x: x[1], reverse=True)\n",
    "        for i in range(min(10, len(mylist))):\n",
    "            print(mylist[i][0])\n",
    "                \n",
    "#테스트            \n",
    "# country1=Country('Republic of Korea')\n",
    "# country1.info()\n",
    "# country1.population_density()\n",
    "# print(country1.update_population())\n",
    "'''WHO_region이 EURO인 나라를 선택해 country 열을 list로 만든다.\n",
    "그후 population_density로 population_den attribution을 생성하고, mylist에 Country class의 i를 더한다.\n",
    "그후 mylist에 Country의 compare method를 사용한다.\n",
    "'''\n",
    "selected_data=covid_data[(covid_data['WHO_region']=='EURO')]['Country']\n",
    "onlist=list(set(selected_data))\n",
    "mylist=[]\n",
    "for i in onlist:\n",
    "    try:\n",
    "        p=Country(i)\n",
    "        p.population_density()\n",
    "        mylist.append(p)\n",
    "    except:\n",
    "        continue\n",
    "Country.compare(mylist)"
   ]
  },
  {
   "cell_type": "code",
   "execution_count": 42,
   "id": "911cf814-98cc-4c24-8e85-51f9cac08bea",
   "metadata": {},
   "outputs": [
    {
     "name": "stdout",
     "output_type": "stream",
     "text": [
      "Monaco\n",
      "Malta\n",
      "San Marino\n",
      "Israel\n",
      "Netherlands (Kingdom of the)\n",
      "Belgium\n",
      "United Kingdom of Great Britain and Northern Ireland\n",
      "Luxembourg\n",
      "Germany\n",
      "Switzerland\n"
     ]
    }
   ],
   "source": [
    "'''WHO_region이 EURO인 나라를 선택해 country 열을 list로 만든다.\n",
    "우선 update population으로 population attribution을 바꾼다.\n",
    "그후 population_density로 population_den attribution을 생성하고, mylist에 Country class의 i를 더한다.\n",
    "그후 mylist에 Country의 compare method를 사용한다. '''\n",
    "mylist=[]\n",
    "for i in onlist:\n",
    "    try:\n",
    "        p=Country(i)\n",
    "        p.update_population()\n",
    "        p.population_density()\n",
    "        mylist.append(p)\n",
    "    except:\n",
    "        continue\n",
    "Country.compare(mylist)"
   ]
  },
  {
   "cell_type": "code",
   "execution_count": 43,
   "id": "ad208f01-8415-4459-a4a1-f4bbeae8ae61",
   "metadata": {},
   "outputs": [],
   "source": [
    "class Covid(Country):\n",
    "    '''\n",
    "    init은 super로 계승한 후 self.cumulative_cases:Cumulative_cases 마지막 값\n",
    "    self.average_weeklycases:Cumulative_cases를 날짜로 나눈 값\n",
    "    self.cumulative_deaths:Cumulative_deaths의 마지막 값\n",
    "    self.average_deaths:Cumulative_deaths를 날짜로 나눈 값\n",
    "    '''\n",
    "    def __init__(self, country):\n",
    "        super().__init__(country)\n",
    "        cumul=covid_data[covid_data['Country']==country]['Cumulative_cases']\n",
    "        self.cumulative_cases=list(cumul)[-1]\n",
    "        self.average_weeklycases=list(cumul)[-1]/215\n",
    "        cumul=covid_data[covid_data['Country']==country]['Cumulative_deaths']\n",
    "        self.cumulative_deaths=list(cumul)[-1]\n",
    "        self.average_deaths=list(cumul)[-1]/215\n",
    "\n",
    "    def info(self):\n",
    "        '''info도 super로 계승한 후 추가된 attribution을 더 출력한다.\n",
    "        '''\n",
    "        super().info()\n",
    "        print('cumulative_cases:', self.cumulative_cases)\n",
    "        print('cumulative deaths:',self.cumulative_deaths)\n",
    "        print('average_weeklycases:',self.average_weeklycases)\n",
    "        print('weekly average deaths:',self.average_deaths)\n",
    "\n",
    "    def mortality_rates(self):\n",
    "        #mortality_rate를 계산해 attribution에 추가하고 반환 값은 감염 수 중 사망 수 * 100\n",
    "        self.mortality_rate=self.cumulative_deaths/self.cumulative_cases * 100 \n",
    "        return self.cumulative_deaths/self.cumulative_cases * 100\n",
    "    def infection_rates(self):\n",
    "        #infection_rate를 계산해 attribution에 추가하고 반환 인구 중 감염자 수 * 100\n",
    "        self.infection_rate=self.cumulative_cases/self.population * 100\n",
    "        return self.cumulative_cases/self.population * 100\n",
    "    def composite_risk_index(self):\n",
    "        #composite_risk_index를 계산 attribution에 추가, 치명률에 0.4의 비중, 감염 가능성에 0.6의 비중을 두었다.\n",
    "        #예상되는 식은 두번째 값을 population으로 나눈 것일 거임 ppt대로 행함\n",
    "        self.update_population()\n",
    "        self.composite_risk= 0.4* self.mortality_rate + 0.6 * (self.population - self.cumulative_cases)* self.infection_rate\n",
    "        return 0.4* self.mortality_rate + 0.6 * (self.population - self.cumulative_cases) * self.infection_rate\n",
    "\n",
    "    @staticmethod\n",
    "    def rank_by_composite(d, lis):\n",
    "        '''staticmethod로 list 중 capital의 첫 번째 글자가 d인 mylist를 만들어 mylist에 대해 composite_risk를 data, country를 key로 \n",
    "        하는 dictionary를 구성한다 이후 dictionary를 data로 오름차순으로 정렬해 각각을 list로 만든 후 다시 dictionary로 되돌려 반환한다.\n",
    "        '''\n",
    "        mylist=[]\n",
    "        for i in lis:\n",
    "            if list(i.capital)[0]==d:\n",
    "                mylist.append(i.name)\n",
    "\n",
    "        newlist={}\n",
    "        for i in mylist:\n",
    "            try:\n",
    "                p=Covid(i)\n",
    "                p.infection_rates()\n",
    "                p.mortality_rates()\n",
    "                p.composite_risk_index()\n",
    "                newlist[i]=p.composite_risk\n",
    "            except:\n",
    "                continue\n",
    "        newlist=sorted(newlist.items(),key=lambda x: x[1], \n",
    "        reverse=False)\n",
    "        mylist={}\n",
    "        for i in newlist:\n",
    "            print(i[0],i[1])\n",
    "            mylist[i[0]]=i[1]\n",
    "\n",
    "        \n",
    "    def calculate_vaccine_effect(self, deviation):\n",
    "        '''\n",
    "        vaccine effect를 입력받은 deviation을 이용해 구한다.\n",
    "        이후 attribution에 할당하고, 반환한다.\n",
    "        '''\n",
    "        self.estimated_new_cases=min(0.5* self.average_weeklycases+deviation, self.average_weeklycases)\n",
    "        self.estimated_new_deaths=min(0.4*self.average_deaths+ deviation, self.average_deaths)\n",
    "\n",
    "        self.vaccine_effect=self.average_weeklycases/self.estimated_new_cases + self.average_deaths/self.estimated_new_deaths\n",
    "        return self.average_weeklycases/self.estimated_new_cases + self.average_deaths/self.estimated_new_deaths\n"
   ]
  },
  {
   "cell_type": "code",
   "execution_count": 44,
   "id": "f93c58d0-a233-4113-acfe-755fcb3ffbe3",
   "metadata": {},
   "outputs": [],
   "source": [
    "#test\n",
    "#Covid1=Covid('Republic of Korea')\n",
    "# Covid1.info()\n",
    "# Covid1.mortality_rates()\n",
    "# Covid1.infection_rates()\n",
    "# Covid1.composite_risk_index()\n",
    "# print(Covid1.mortality_rate)\n",
    "# print(Covid1.infection_rate)\n",
    "# print(Covid1.composite_risk)"
   ]
  },
  {
   "cell_type": "code",
   "execution_count": 45,
   "id": "7cc2f414-02ab-4d36-8ab2-9a93096ad4c2",
   "metadata": {},
   "outputs": [
    {
     "name": "stdout",
     "output_type": "stream",
     "text": [
      "Serbia 95754448.21744941\n",
      "Hungary 99277139.8089368\n",
      "Azerbaijan 121729324.25988415\n",
      "Romania 178418270.06927153\n",
      "Belgium 218905183.815979\n",
      "Switzerland 220340852.54842445\n",
      "Germany 1442742397.5744114\n"
     ]
    }
   ],
   "source": [
    "'''\n",
    "WHO_region이 EURO인 DataFrame에 대해 country를 모은 다음 set를 부여해 중복된 값을 없애고 다시 list 부여\n",
    "Covid를 실행할 수 없는 경우 넘기고 실행할 수 있는 경우 인구 밀도 등을 계산하여 Covid class의 값을 mylist에 추가한다.\n",
    "이후 staticmethod rank_by_composite를 통해 수도가 B로 시작하는 나라들을 정렬해 출력한다.\n",
    "'''\n",
    "\n",
    "selected_data=covid_data[(covid_data['WHO_region']=='EURO')]['Country']\n",
    "onlist=list(set(selected_data))\n",
    "mylist=[]\n",
    "for i in onlist:\n",
    "    try:\n",
    "        p=Covid(i)\n",
    "        p.update_population()\n",
    "        p.population_density()\n",
    "        mylist.append(p)\n",
    "    except:\n",
    "        continue\n",
    "Covid.rank_by_composite('B', mylist)"
   ]
  },
  {
   "cell_type": "code",
   "execution_count": 46,
   "id": "fd32e3c2-19ab-4eda-9b6a-5e963bbc225f",
   "metadata": {},
   "outputs": [
    {
     "name": "stdout",
     "output_type": "stream",
     "text": [
      "Chad\n"
     ]
    }
   ],
   "source": [
    "'''selected_data에 WHO_region이 AFRO인 dataframe을 생성한다. \n",
    "이후 onlist에 set를 통해 반복되는 값을 없애고 list를 사용한 뒤 onlist 값들에 대해\n",
    "Covid class를 부여하고 update_population한 뒤 calculate_vaccine_effect 한 값을 data, \n",
    "국가 이름을 key로 하는 dictionary를 구성한다.\n",
    "'''\n",
    "selected_data = covid_data[(covid_data['WHO_region']=='AFRO')]['Country']\n",
    "onlist=list(set(selected_data))\n",
    "mylist={}\n",
    "for i in onlist:\n",
    "    try:\n",
    "        p=Covid(i)\n",
    "        p.update_population()\n",
    "        k=p.calculate_vaccine_effect(10)\n",
    "        mylist[i]=p.vaccine_effect\n",
    "\n",
    "    except:\n",
    "        continue\n",
    "\n",
    "#이후 dictionary를 정렬하고 첫번째 값을 출력한다.\n",
    "mylist=sorted(mylist.items(),key=lambda x: x[1], \n",
    "        reverse=False)\n",
    "print(mylist[0][0])"
   ]
  },
  {
   "cell_type": "code",
   "execution_count": 73,
   "id": "21761eb3-2a85-4128-a0ec-1b0091cd8124",
   "metadata": {},
   "outputs": [
    {
     "name": "stdout",
     "output_type": "stream",
     "text": [
      "which country you find is Russian Federation\n",
      "name: Russian Federation\n",
      "WHO-region: EURO\n",
      "countrycode: RUS\n",
      "capital: Moskva (Moscow)\n",
      "land area: 16378410\n",
      "water area: 719836\n",
      "population: 119897000.0\n",
      "cumulative_cases: 23931163\n",
      "cumulative deaths: 402097\n",
      "average_weeklycases: 111307.73488372093\n",
      "weekly average deaths: 1870.2186046511629\n"
     ]
    }
   ],
   "source": [
    "'''\n",
    "covid data의 모든 나라를 가져온 후 육토가 10000000가 넘는다면 calculate_vaccine_effect(20)을 한 후 \n",
    "mylist에 Covid class의 나라를 추가한다\n",
    "'''\n",
    "selected_data= list(set(covid_data['Country']))\n",
    "mylist=[]\n",
    "for i in selected_data:\n",
    "    #육토가 10000000이 넘는 나라는 러시아 밖에 없음 \n",
    "    try:\n",
    "        k=Covid(i)\n",
    "        if int(k.land_in_km)>10000000:\n",
    "            k.calculate_vaccine_effect(20)\n",
    "            mylist.append(k)\n",
    "\n",
    "    except:\n",
    "        continue\n",
    "'''\n",
    "이후 mylist에 대해 이름을 key로, vaccine_effect를 data로 하는 dictionary를 만들고\n",
    "정렬한다\n",
    "그후 newlist의 첫번째 값을 출력한다.\n",
    "'''\n",
    "newlist={}\n",
    "for i in mylist:\n",
    "    newlist[i.name]= i.vaccine_effect\n",
    "newlist=sorted(newlist.items(),key=lambda x: x[1], reverse=True)\n",
    "for i in range(min(1, len(newlist))):\n",
    "    print('which country you find is',newlist[i][0])\n",
    "    k=Covid(newlist[i][0])\n",
    "    k.info()\n"
   ]
  },
  {
   "cell_type": "code",
   "execution_count": 48,
   "id": "3ae51447-d4e0-4914-ab4a-cb4971291224",
   "metadata": {},
   "outputs": [
    {
     "name": "stdout",
     "output_type": "stream",
     "text": [
      "    REF_AREA Reference area MEASURE     Measure UNIT_MEASURE Unit of measure  \\\n",
      "143      IND          India     POP  Population           PS         Persons   \n",
      "144      IND          India     POP  Population           PS         Persons   \n",
      "145      IND          India     POP  Population           PS         Persons   \n",
      "146      IND          India     POP  Population           PS         Persons   \n",
      "147      IND          India     POP  Population           PS         Persons   \n",
      "\n",
      "    SEX    Sex     AGE               Age TIME_HORIZ Time horizon  TIME_PERIOD  \\\n",
      "143  _T  Total  Y_GE65  65 years or over          H   Historical         2010   \n",
      "144  _T  Total  Y_GE65  65 years or over          H   Historical         2011   \n",
      "145  _T  Total  Y_GE65  65 years or over          H   Historical         2012   \n",
      "146  _T  Total  Y_GE65  65 years or over          H   Historical         2013   \n",
      "147  _T  Total  Y_GE65  65 years or over          H   Historical         2014   \n",
      "\n",
      "     Time period   OBS_VALUE  \n",
      "143          NaN  62849330.0  \n",
      "144          NaN  64583831.0  \n",
      "145          NaN  66495584.0  \n",
      "146          NaN  68634511.0  \n",
      "147          NaN  71341899.0  \n"
     ]
    }
   ],
   "source": [
    "'''age_data를 가져온 후, 필요없는 열을 버린다.\n",
    "그후 노인들의 수를 알아내기 위해 65세 이상인 자료로\n",
    "새로운 dataframe을 구성한다.\n",
    "'''\n",
    "age_data=pd.read_csv(filepath_or_buffer='age_of_population.csv')\n",
    "age_data=age_data.iloc[:,4:19]\n",
    "age_data=age_data[(age_data['Age']=='65 years or over')]\n",
    "print(age_data.head())\n",
    "#자료 확인"
   ]
  },
  {
   "cell_type": "code",
   "execution_count": 62,
   "id": "22864329-e550-4b63-9c6e-af39eab6aa25",
   "metadata": {},
   "outputs": [
    {
     "name": "stdout",
     "output_type": "stream",
     "text": [
      "표본 수: 49\n",
      "노인 비중과 치사율의 상관관계 수: -0.3040527603407648\n"
     ]
    },
    {
     "data": {
      "image/png": "[encoded data removed]",
      "text/plain": [
       "<Figure size 640x480 with 1 Axes>"
      ]
     },
     "metadata": {},
     "output_type": "display_data"
    }
   ],
   "source": [
    "class Old(Covid):\n",
    "    '''\n",
    "    class Old를 생성해 Covid의 자료를 계승\n",
    "    agedataframe은 국가 코드가 같은 자료를 통해 생성\n",
    "    매년 증가율을 구해 평균을 낸 다음, 마지막 자료에 대해 증가율을 곱해 2024년 자료를 구함\n",
    "    예상되는 2024년 자료를 self.old_pop에 추가함\n",
    "    self.old_pop과 self.population을 통해 노인 비율을 구함\n",
    "    '''\n",
    "    def __init__(self, country):\n",
    "        super().__init__(country)\n",
    "        agedataframe=age_data[age_data['REF_AREA']==self.Country_code]\n",
    "        mylist=[]\n",
    "        for i in range(2010,2023):\n",
    "            k=int(agedataframe[agedataframe['TIME_PERIOD']==i]['OBS_VALUE'].iloc[0])\n",
    "            mylist.append(k)\n",
    "        my_list=[]\n",
    "        for i in range(1,len(mylist)):\n",
    "            my_list.append(mylist[i]/mylist[i-1])\n",
    "        self.old_pop=mylist[-1]/(sum(my_list)/len(my_list))\n",
    "        self.update_population()\n",
    "        self.old_rate=self.old_pop/self.population*100\n",
    "            \n",
    "'''\n",
    "covid_data로 나라들을 가져온 다음 list로 변환 selected_data에 할당함\n",
    "노인 비율을 x에 사망율을 y에 추가한 다음 얼마나 선형적 관계를 갖는 지 확인해 보기 위해 \n",
    "제공된 식을 활용함\n",
    "'''\n",
    "selected_data= list(set(covid_data['Country']))\n",
    "x=[]\n",
    "y=[]\n",
    "for i in selected_data:\n",
    "    try:\n",
    "        p=Old(i)\n",
    "        p.update_population()\n",
    "        x.append(p.old_rate)\n",
    "        p.mortality_rates()\n",
    "        y.append(p.mortality_rate)\n",
    "    except:\n",
    "        continue\n",
    "\n",
    "print('표본 수:',len(x))\n",
    "average_x=sum(x)/len(x)\n",
    "average_y=sum(y)/len(y)\n",
    "new_x=[t-average_x for t in x]\n",
    "new_y=[t-average_y for t in y]\n",
    "k=0\n",
    "for i in range(len(new_x)):\n",
    "    k+=new_x[i]*new_y[i]\n",
    "t=0\n",
    "p=0\n",
    "for i in new_x:\n",
    "    t+= i**2\n",
    "for i in new_y:\n",
    "    p += i**2\n",
    "print('노인 비중과 치사율의 상관관계 수:',k/((t*p) ** 0.5))\n",
    "plt.plot(x,y, 'ro')\n",
    "plt.show()\n",
    "\n",
    "#음의 상관관계를 보임, 부국, 의료가 잘 갖춰질수록 치사율이 낮기 때문일 것임\n"
   ]
  },
  {
   "cell_type": "code",
   "execution_count": 71,
   "id": "74016d51-0886-4e42-a8be-ecf99cabbe89",
   "metadata": {},
   "outputs": [
    {
     "name": "stdout",
     "output_type": "stream",
     "text": [
      "회귀 계수: [ 48.54136388 -14.5101952 ]\n",
      "예측값: [ 35.89434453  45.49874378  34.20767062  37.86666656  47.25553225\n",
      "  31.90791181   6.28830801  38.28682058  45.3351213   32.06526963\n",
      "  45.6334024   27.83843796  44.48808094  16.0663493   14.10573308\n",
      "  44.67883938  31.3503411  -14.55647436  41.31299497  47.0331744\n",
      "  43.92015183  24.16099441  38.49727858  38.12049535  37.45151081\n",
      "  32.06292171  31.70493962  43.16466092  46.32054018  21.38824269\n",
      "  41.41939291  46.75985311  42.29097408  16.63329308  37.75853634\n",
      "  29.74666827  40.58431555  11.98829417  37.4958857   20.25061833\n",
      "  43.02096424  47.5629524   37.82005093  44.73306395  22.24745161\n",
      "  44.83119899  37.46245457  41.9359329   35.01830503]\n"
     ]
    },
    {
     "data": {
      "image/png": "[encoded data removed]",
      "text/plain": [
       "<Figure size 800x600 with 1 Axes>"
      ]
     },
     "metadata": {},
     "output_type": "display_data"
    }
   ],
   "source": [
    "# 입력 데이터와 출력 데이터\n",
    "x = np.array(x)\n",
    "y = np.array(y)\n",
    "\n",
    "# 입력 데이터 행렬 X 생성\n",
    "X = np.column_stack((np.ones_like(x), x))\n",
    "\n",
    "# 최소자승법 계산\n",
    "b = np.linalg.inv(X.T @ X) @ X.T @ y\n",
    "\n",
    "# 예측값 계산\n",
    "y_pred = X @ b\n",
    "\n",
    "print(\"회귀 계수:\", b)\n",
    "print(\"예측값:\", y_pred)\n",
    "plt.figure(figsize=(8, 6))\n",
    "plt.scatter(x, y, label='Data Points')\n",
    "plt.plot(x, y_pred, color='r', label='Fitted Line')\n",
    "plt.xlabel('x')\n",
    "plt.ylabel('y')\n",
    "plt.title('Least Squares Regression')\n",
    "plt.legend()\n",
    "plt.grid()\n",
    "plt.show()"
   ]
  },
  {
   "cell_type": "code",
   "execution_count": 65,
   "id": "f9c4e7a7-7d53-483e-ac2f-d8d81d90437e",
   "metadata": {},
   "outputs": [
    {
     "name": "stdout",
     "output_type": "stream",
     "text": [
      "표본 수: 49\n",
      "노인 비중과 감염율의 상관관계 수: 0.4748794180292585\n"
     ]
    },
    {
     "data": {
      "image/png": "[encoded data removed]",
      "text/plain": [
       "<Figure size 640x480 with 1 Axes>"
      ]
     },
     "metadata": {},
     "output_type": "display_data"
    }
   ],
   "source": [
    "selected_data= list(set(covid_data['Country']))\n",
    "x=[]\n",
    "y=[]\n",
    "for i in selected_data:\n",
    "    try:\n",
    "        p=Old(i)\n",
    "        p.update_population()\n",
    "        x.append(p.old_rate)\n",
    "        p.infection_rates()\n",
    "        y.append(p.infection_rate)\n",
    "    except:\n",
    "        continue\n",
    "\n",
    "print('표본 수:',len(x))\n",
    "average_x=sum(x)/len(x)\n",
    "average_y=sum(y)/len(y)\n",
    "new_x=[t-average_x for t in x]\n",
    "new_y=[t-average_y for t in y]\n",
    "k=0\n",
    "for i in range(len(new_x)):\n",
    "    k+=new_x[i]*new_y[i]\n",
    "t=0\n",
    "p=0\n",
    "for i in new_x:\n",
    "    t+= i**2\n",
    "for i in new_y:\n",
    "    p += i**2\n",
    "print('노인 비중과 감염율의 상관관계 수:',k/((t*p) ** 0.5))\n",
    "plt.plot(x,y, 'ro')\n",
    "plt.show()"
   ]
  },
  {
   "cell_type": "code",
   "execution_count": 66,
   "id": "7a52b920-c128-4c38-851d-ece8136ef2e7",
   "metadata": {},
   "outputs": [
    {
     "name": "stdout",
     "output_type": "stream",
     "text": [
      "회귀 계수: [7.88268129 1.60997661]\n",
      "예측값: [39.53769559 34.05840096 39.86183117 45.87319265 30.97223603 11.56557592\n",
      " 45.00724908 38.78491472 53.49193523 36.78537226 26.44433962 43.94670183\n",
      " 39.89748381 22.59927012 18.86369597 39.19839624 18.38646749 20.46625983\n",
      " 45.45043332 34.50046032 37.79951949 33.44531435 43.90643965 39.94322737\n",
      " 44.0263952  34.71760216 27.81803769 38.73212589 33.09989441 23.82389024\n",
      " 40.11470838 28.98338251 40.85962297 40.56041312 37.19813506 26.28076359\n",
      " 31.01083312 17.48403405 22.45363595 38.96997362 36.44671767 25.79868153\n",
      " 41.19974319 26.55283202 38.61584114 30.83215002 41.55909869 43.15724315\n",
      " 37.82704207]\n"
     ]
    }
   ],
   "source": [
    "# 입력 데이터와 출력 데이터\n",
    "x = np.array(x)\n",
    "y = np.array(y)\n",
    "\n",
    "# 입력 데이터 행렬 X 생성\n",
    "X = np.column_stack((np.ones_like(x), x))\n",
    "\n",
    "# 최소자승법 계산\n",
    "b = np.linalg.inv(X.T @ X) @ X.T @ y\n",
    "\n",
    "# 예측값 계산\n",
    "y_pred = X @ b\n",
    "\n",
    "print(\"회귀 계수:\", b)\n",
    "print(\"예측값:\", y_pred)"
   ]
  },
  {
   "cell_type": "code",
   "execution_count": 67,
   "id": "ad87996a-e96f-4c4d-b60d-031638ea86bd",
   "metadata": {},
   "outputs": [
    {
     "data": {
      "image/png": "[encoded data removed]",
      "text/plain": [
       "<Figure size 800x600 with 1 Axes>"
      ]
     },
     "metadata": {},
     "output_type": "display_data"
    }
   ],
   "source": [
    "plt.figure(figsize=(8, 6))\n",
    "plt.scatter(x, y, label='Data Points')\n",
    "plt.plot(x, y_pred, color='r', label='Fitted Line')\n",
    "plt.xlabel('x')\n",
    "plt.ylabel('y')\n",
    "plt.title('Least Squares Regression')\n",
    "plt.legend()\n",
    "plt.grid()\n",
    "plt.show()"
   ]
  },
  {
   "cell_type": "code",
   "execution_count": 68,
   "id": "e011a56d-a1c0-46f7-9a8b-700b6cc2664c",
   "metadata": {},
   "outputs": [
    {
     "name": "stdout",
     "output_type": "stream",
     "text": [
      "표본 수: 49\n",
      "치사율과 감염율의 상관관계 수: -0.6728336474959951\n"
     ]
    },
    {
     "data": {
      "image/png": "[encoded data removed]",
      "text/plain": [
       "<Figure size 640x480 with 1 Axes>"
      ]
     },
     "metadata": {},
     "output_type": "display_data"
    }
   ],
   "source": [
    "selected_data= list(set(covid_data['Country']))\n",
    "x=[]\n",
    "y=[]\n",
    "for i in selected_data:\n",
    "    try:\n",
    "        p=Old(i)\n",
    "        p.update_population()\n",
    "        p.mortality_rates()\n",
    "        x.append(p.mortality_rate)\n",
    "        p.infection_rates()\n",
    "        y.append(p.infection_rate)\n",
    "    except:\n",
    "        continue\n",
    "\n",
    "print('표본 수:',len(x))\n",
    "average_x=sum(x)/len(x)\n",
    "average_y=sum(y)/len(y)\n",
    "new_x=[t-average_x for t in x]\n",
    "new_y=[t-average_y for t in y]\n",
    "k=0\n",
    "for i in range(len(new_x)):\n",
    "    k+=new_x[i]*new_y[i]\n",
    "t=0\n",
    "p=0\n",
    "for i in new_x:\n",
    "    t+= i**2\n",
    "for i in new_y:\n",
    "    p += i**2\n",
    "print('치사율과 감염율의 상관관계 수:',k/((t*p) ** 0.5))\n",
    "plt.plot(x,y, 'ro')\n",
    "plt.show()"
   ]
  },
  {
   "cell_type": "code",
   "execution_count": 70,
   "id": "7c786179-84b1-43f5-9ec1-55d0cabd0b23",
   "metadata": {},
   "outputs": [
    {
     "name": "stdout",
     "output_type": "stream",
     "text": [
      "회귀 계수: [ 48.54136388 -14.5101952 ]\n"
     ]
    },
    {
     "data": {
      "image/png": "[encoded data removed]",
      "text/plain": [
       "<Figure size 800x600 with 1 Axes>"
      ]
     },
     "metadata": {},
     "output_type": "display_data"
    }
   ],
   "source": [
    "# 입력 데이터와 출력 데이터\n",
    "x = np.array(x)\n",
    "y = np.array(y)\n",
    "\n",
    "# 입력 데이터 행렬 X 생성\n",
    "X = np.column_stack((np.ones_like(x), x))\n",
    "\n",
    "# 최소자승법 계산\n",
    "b = np.linalg.inv(X.T @ X) @ X.T @ y\n",
    "\n",
    "# 예측값 계산\n",
    "y_pred = X @ b\n",
    "\n",
    "print(\"회귀 계수:\", b)\n",
    "#print(\"예측값:\", y_pred)\n",
    "plt.figure(figsize=(8, 6))\n",
    "plt.scatter(x, y, label='Data Points')\n",
    "plt.plot(x, y_pred, color='r', label='Fitted Line')\n",
    "plt.xlabel('x')\n",
    "plt.ylabel('y')\n",
    "plt.title('Least Squares Regression')\n",
    "plt.legend()\n",
    "plt.grid()\n",
    "plt.show()"
   ]
  },
  {
   "cell_type": "code",
   "execution_count": null,
   "id": "16152d4a-9abb-4c28-8e95-67672f498c01",
   "metadata": {},
   "outputs": [],
   "source": []
  },
  {
   "cell_type": "code",
   "execution_count": null,
   "id": "ab287195-5dd9-478a-b678-bded142ce627",
   "metadata": {},
   "outputs": [],
   "source": []
  }
 ],
 "metadata": {
  "kernelspec": {
   "display_name": "Python 3 (ipykernel)",
   "language": "python",
   "name": "python3"
  },
  "language_info": {
   "codemirror_mode": {
    "name": "ipython",
    "version": 3
   },
   "file_extension": ".py",
   "mimetype": "text/x-python",
   "name": "python",
   "nbconvert_exporter": "python",
   "pygments_lexer": "ipython3",
   "version": "3.11.7"
  }
 },
 "nbformat": 4,
 "nbformat_minor": 5
}
