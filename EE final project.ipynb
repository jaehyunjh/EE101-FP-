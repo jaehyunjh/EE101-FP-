{
 "cells": [
  {
   "cell_type": "code",
   "execution_count": 11,
   "id": "7c89c5bf-5de3-43a3-8c7e-6753bec44cdb",
   "metadata": {},
   "outputs": [],
   "source": [
    "import pandas as pd\n"
   ]
  },
  {
   "cell_type": "code",
   "execution_count": 10,
   "id": "91fc289a-9c99-453d-ac27-6723c73f280b",
   "metadata": {},
   "outputs": [
    {
     "data": {
      "text/plain": [
       "['C:\\\\Users\\\\star5\\\\EE101',\n",
       " 'C:\\\\python\\\\python311.zip',\n",
       " 'C:\\\\python\\\\DLLs',\n",
       " 'C:\\\\python\\\\Lib',\n",
       " 'C:\\\\python',\n",
       " 'C:\\\\Users\\\\star5\\\\AppData\\\\Roaming\\\\Python\\\\Python311\\\\site-packages',\n",
       " 'C:\\\\python\\\\Lib\\\\site-packages',\n",
       " 'C:\\\\python\\\\Lib\\\\site-packages\\\\vboxapi-1.0-py3.11.egg',\n",
       " 'C:\\\\python\\\\Lib\\\\site-packages\\\\win32',\n",
       " 'C:\\\\python\\\\Lib\\\\site-packages\\\\win32\\\\lib',\n",
       " 'C:\\\\python\\\\Lib\\\\site-packages\\\\Pythonwin']"
      ]
     },
     "execution_count": 10,
     "metadata": {},
     "output_type": "execute_result"
    }
   ],
   "source": [
    "import sys\n",
    "sys.path\n"
   ]
  },
  {
   "cell_type": "code",
   "execution_count": 13,
   "id": "0476e108-0ca4-49b5-922a-44ea1907db06",
   "metadata": {},
   "outputs": [
    {
     "name": "stdout",
     "output_type": "stream",
     "text": [
      "                  Country Name Country Code     Indicator Name Indicator Code  \\\n",
      "0                        Aruba          ABW  Population, total    SP.POP.TOTL   \n",
      "1  Africa Eastern and Southern          AFE  Population, total    SP.POP.TOTL   \n",
      "2                  Afghanistan          AFG  Population, total    SP.POP.TOTL   \n",
      "3   Africa Western and Central          AFW  Population, total    SP.POP.TOTL   \n",
      "4                       Angola          AGO  Population, total    SP.POP.TOTL   \n",
      "\n",
      "          1960         1961         1962         1963         1964  \\\n",
      "0      54608.0      55811.0      56682.0      57475.0      58178.0   \n",
      "1  130692579.0  134169237.0  137835590.0  141630546.0  145605995.0   \n",
      "2    8622466.0    8790140.0    8969047.0    9157465.0    9355514.0   \n",
      "3   97256290.0   99314028.0  101445032.0  103667517.0  105959979.0   \n",
      "4    5357195.0    5441333.0    5521400.0    5599827.0    5673199.0   \n",
      "\n",
      "          1965  ...         2014         2015         2016         2017  \\\n",
      "0      58782.0  ...     103594.0     104257.0     104874.0     105439.0   \n",
      "1  149742351.0  ...  583651101.0  600008424.0  616377605.0  632746570.0   \n",
      "2    9565147.0  ...   32716210.0   33753499.0   34636207.0   35643418.0   \n",
      "3  108336203.0  ...  397855507.0  408690375.0  419778384.0  431138704.0   \n",
      "4    5736582.0  ...   27128337.0   28127721.0   29154746.0   30208628.0   \n",
      "\n",
      "          2018         2019         2020         2021         2022  2023  \n",
      "0     105962.0     106442.0     106585.0     106537.0     106445.0   NaN  \n",
      "1  649757148.0  667242986.0  685112979.0  702977106.0  720859132.0   NaN  \n",
      "2   36686784.0   37769499.0   38972230.0   40099462.0   41128771.0   NaN  \n",
      "3  442646825.0  454306063.0  466189102.0  478185907.0  490330870.0   NaN  \n",
      "4   31273533.0   32353588.0   33428486.0   34503774.0   35588987.0   NaN  \n",
      "\n",
      "[5 rows x 68 columns]\n"
     ]
    }
   ],
   "source": [
    "kk=pd.read_csv(filepath_or_buffer=r'country-population.CSV')\n",
    "print(kk.head(5))"
   ]
  },
  {
   "cell_type": "code",
   "execution_count": null,
   "id": "6aaaa522-a62d-4b3c-9ab4-ecea85883fc3",
   "metadata": {},
   "outputs": [],
   "source": []
  }
 ],
 "metadata": {
  "kernelspec": {
   "display_name": "Python 3 (ipykernel)",
   "language": "python",
   "name": "python3"
  },
  "language_info": {
   "codemirror_mode": {
    "name": "ipython",
    "version": 3
   },
   "file_extension": ".py",
   "mimetype": "text/x-python",
   "name": "python",
   "nbconvert_exporter": "python",
   "pygments_lexer": "ipython3",
   "version": "3.11.7"
  }
 },
 "nbformat": 4,
 "nbformat_minor": 5
}
